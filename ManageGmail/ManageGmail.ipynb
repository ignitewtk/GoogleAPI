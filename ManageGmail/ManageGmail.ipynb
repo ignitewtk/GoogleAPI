{
 "cells": [
  {
   "cell_type": "markdown",
   "metadata": {},
   "source": [
    "#### Description\n",
    "\n",
    "The code is used for managing Gmail data. \n",
    "\n",
    "\n",
    "#### Configuration\n",
    "\n",
    "1. Enable Gmail SDK in Google Developer Console.\n",
    "3. Setup API keys, OAuth Client ID and the scopes needed, Service account.\n",
    "4. Download OAuth credential json file from Google Developer Console. The file likes \"client_secret_274636580459-mlfmiu7frnf84hm794shl21tdmal10ee.apps.googleusercontent.com.json\".\n",
    "5. Rename the file as \"credentials.json\" and put it in the root directory.\n",
    "\n",
    "#### Reference\n",
    "\n",
    "- Gmal API\n",
    "https://developers.google.com/gmail/api/quickstart/python\n",
    "\n",
    "- OAuth 2.0 Scopes\n",
    "https://developers.google.com/identity/protocols/oauth2/scopes\n",
    "\n",
    "- People API\n",
    "https://developers.google.com/people/quickstart/python\n"
   ]
  },
  {
   "cell_type": "code",
   "execution_count": 13,
   "metadata": {},
   "outputs": [],
   "source": [
    "from __future__ import print_function\n",
    "\n",
    "import os.path\n",
    "import pandas as pd\n",
    "import base64\n",
    "from google.auth.transport.requests import Request\n",
    "from google.oauth2.credentials import Credentials\n",
    "from google_auth_oauthlib.flow import InstalledAppFlow\n",
    "from googleapiclient.discovery import build\n",
    "from googleapiclient.errors import HttpError"
   ]
  },
  {
   "cell_type": "code",
   "execution_count": 29,
   "metadata": {},
   "outputs": [
    {
     "name": "stdout",
     "output_type": "stream",
     "text": [
      "Labels:\n",
      "CHAT SENT INBOX IMPORTANT TRASH DRAFT SPAM CATEGORY_FORUMS CATEGORY_UPDATES CATEGORY_PERSONAL CATEGORY_PROMOTIONS CATEGORY_SOCIAL STARRED UNREAD \n"
     ]
    }
   ],
   "source": [
    "tmp_user_obj, tmp_user_list = None, None\n",
    "tmp_message_obj1, tmp_message_obj2, tmp_message_list = None, None, None\n",
    "\n",
    "tmp_attachment_obj1, tmp_attachment_obj2, tmp_attachment_list = None, None, None\n",
    "\n",
    "SCOPES = ['https://www.googleapis.com/auth/gmail.readonly']\n",
    "\n",
    "creds = None\n",
    "# The file token.json stores the user's access and refresh tokens, and is\n",
    "# created automatically when the authorization flow completes for the first\n",
    "# time.\n",
    "if os.path.exists('token.json'):\n",
    "    creds = Credentials.from_authorized_user_file('token.json', SCOPES)\n",
    "# If there are no (valid) credentials available, let the user log in.\n",
    "if not creds or not creds.valid:\n",
    "    if creds and creds.expired and creds.refresh_token:\n",
    "        creds.refresh(Request())\n",
    "    else:\n",
    "        flow = InstalledAppFlow.from_client_secrets_file(\n",
    "            'credentials.json', SCOPES)\n",
    "        creds = flow.run_local_server(port=0)\n",
    "    # Save the credentials for the next run\n",
    "    with open('token.json', 'w') as token:\n",
    "        token.write(creds.to_json())\n",
    "\n",
    "try:\n",
    "    # Call the Gmail API\n",
    "    service = build('gmail', 'v1', credentials=creds)\n",
    "    \n",
    "    tmp_user_obj = service.users()\n",
    "    tmp_user_profile = service.users().getProfile(userId='me').execute()\n",
    "    \n",
    "    tmp_message_obj1 = service.users().messages()\n",
    "    tmp_message_list = service.users().messages().list(userId='me').execute()\n",
    "    \n",
    "    tmp_attachment_obj1 = service.users().messages().attachments()\n",
    "#     tmp_attachment_list = service.users().messages().attachments().get(userId='me').execute()\n",
    "\n",
    "    # label\n",
    "    results = service.users().labels().list(userId='me').execute()\n",
    "    labels = results.get('labels', [])\n",
    "    if not labels:\n",
    "        print('No labels found.')\n",
    "    print('Labels:')\n",
    "    for label in labels:\n",
    "        print(label['name'], end=' ')\n",
    "    print()\n",
    "    \n",
    "    # email List\n",
    "    response_list = service.users().messages().list(userId='me').execute()\n",
    "    print(response_list['messages'][:5])\n",
    "    print()\n",
    "    \n",
    "    # An email Content\n",
    "    message = service.users().messages().get(userId='me', id=response_list['messages'][0]['id']).execute()\n",
    "    print(base64.urlsafe_b64decode(message['payload']['parts'][0]['body']['data'].encode('ascii')).decode(\"utf-8\"))\n",
    "    \n",
    "    \n",
    "\n",
    "except HttpError as error:\n",
    "    # TODO(developer) - Handle errors from gmail API.\n",
    "    print(f'An error occurred: {error}')"
   ]
  },
  {
   "cell_type": "markdown",
   "metadata": {},
   "source": [
    "minimal - Returns only email message ID and labels; does not return the email headers, body, or payload.\n",
    "\n",
    "full - Returns the full email message data with body content parsed in the payload field; the raw field is not used. Format cannot be used when accessing the api using the gmail.metadata scope.\n",
    "\n",
    "raw\t- Returns the full email message data with body content in the raw field as a base64url encoded string; the payload field is not used. Format cannot be used when accessing the api using the gmail.metadata scope.\n",
    "\n",
    "metadata - Returns only email message ID, labels, and email headers."
   ]
  }
 ],
 "metadata": {
  "kernelspec": {
   "display_name": "Python 3",
   "language": "python",
   "name": "python3"
  },
  "language_info": {
   "codemirror_mode": {
    "name": "ipython",
    "version": 3
   },
   "file_extension": ".py",
   "mimetype": "text/x-python",
   "name": "python",
   "nbconvert_exporter": "python",
   "pygments_lexer": "ipython3",
   "version": "3.7.9"
  },
  "toc": {
   "base_numbering": 1,
   "nav_menu": {},
   "number_sections": true,
   "sideBar": true,
   "skip_h1_title": false,
   "title_cell": "Table of Contents",
   "title_sidebar": "Contents",
   "toc_cell": false,
   "toc_position": {},
   "toc_section_display": true,
   "toc_window_display": false
  }
 },
 "nbformat": 4,
 "nbformat_minor": 4
}
