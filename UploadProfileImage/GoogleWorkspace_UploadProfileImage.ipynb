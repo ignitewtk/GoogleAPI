{
 "cells": [
  {
   "cell_type": "markdown",
   "metadata": {},
   "source": [
    "#### Description\n",
    "\n",
    "The code is used for updating google account profile image. \n",
    "\n",
    "\n",
    "\n",
    "#### Configuration\n",
    "\n",
    "1. Enable Admin Workspace SDK in Google Developer Console.\n",
    "2. Configure your administractor account and allow data access.\n",
    "3. Setup API keys, OAuth Client ID and the scopes needed, Service account.\n",
    "4. Download OAuth credential json file from Google Developer Console. The file likes \"client_secret_274636580459-mlfmiu7frnf84hm794shl21tdmal10ee.apps.googleusercontent.com.json\".\n",
    "5. Rename the file as \"credentials.json\" and put it in the root directory.\n",
    "\n",
    "#### Reference\n",
    "\n",
    "Admin SDK\n",
    "\n",
    "- Manage user photo (CN)\n",
    "https://developers.google.com/admin-sdk/directory/v1/guides/manage-users?hl=zh-cn#update_photo\n",
    "\n",
    "- API\n",
    "https://developers.google.com/admin-sdk/directory/reference/rest/v1/users/get?apix_params=%7B%22userKey%22%3A%22me%22%7D"
   ]
  },
  {
   "cell_type": "code",
   "execution_count": null,
   "metadata": {
    "scrolled": true
   },
   "outputs": [
    {
     "name": "stdout",
     "output_type": "stream",
     "text": [
      "Please visit this URL to authorize this application: https://accounts.google.com/o/oauth2/auth?response_type=code&client_id=274630100459-mlfmiu7frnf84hm794shl21tdmal10ee.apps.googleusercontent.com&redirect_uri=http%3A%2F%2Flocalhost%3A61999%2F&scope=https%3A%2F%2Fwww.googleapis.com%2Fauth%2Fadmin.directory.user+https%3A%2F%2Fwww.googleapis.com%2Fauth%2Fadmin.directory.user.readonly&state=qRqOJFoE1jLqZbpt6friC5NsWPkvFZ&access_type=offline\n"
     ]
    }
   ],
   "source": [
    "from __future__ import print_function\n",
    "\n",
    "import os.path\n",
    "import os\n",
    "import base64\n",
    "import json\n",
    "\n",
    "# install relevant libraries\n",
    "from google.auth.transport.requests import Request\n",
    "from google.oauth2.credentials import Credentials\n",
    "from google_auth_oauthlib.flow import InstalledAppFlow\n",
    "from googleapiclient.discovery import build\n",
    "from googleapiclient.errors import HttpError\n",
    "\n",
    "\n",
    "DIR_PHOTO = './img'\n",
    "\n",
    "SCOPES = ['https://www.googleapis.com/auth/admin.directory.user',\n",
    "          'https://www.googleapis.com/auth/admin.directory.user.readonly']\n",
    "\n",
    "PATH_CONFIG = './'\n",
    "TOKEN_PATH = PATH_CONFIG + 'token.json'\n",
    "CRED_PATH = PATH_CONFIG + 'credentials.json'\n",
    "\n",
    "creds = None\n",
    "# The file token.json stores the user's access and refresh tokens, and is\n",
    "# created automatically when the authorization flow completes for the first\n",
    "# time.\n",
    "if os.path.exists(TOKEN_PATH):\n",
    "    creds = Credentials.from_authorized_user_file(TOKEN_PATH, SCOPES)\n",
    "# If there are no (valid) credentials available, let the user log in.\n",
    "if not creds or not creds.valid:\n",
    "    if creds and creds.expired and creds.refresh_token:\n",
    "        creds.refresh(Request())\n",
    "    else:\n",
    "        flow = InstalledAppFlow.from_client_secrets_file(\n",
    "            CRED_PATH, SCOPES)\n",
    "        creds = flow.run_local_server(port=0)\n",
    "    # Save the credentials for the next run\n",
    "    with open(TOKEN_PATH, 'w') as token:\n",
    "        token.write(creds.to_json())\n",
    "\n",
    "try:\n",
    "    # Call the Gmail API\n",
    "    service = build('admin', 'directory_v1', credentials=creds)\n",
    "    # Get profile image\n",
    "    # tmp_user_photo = service.users().photos().get(userKey='ranil@onsys.com.au').execute()\n",
    "    print(\"Photo list:\\n\", os.listdir(DIR_PHOTO))\n",
    "    for fname in os.listdir(DIR_PHOTO):\n",
    "        # Load the photo file\n",
    "        if fname.split('.')[-1] != 'jpg':\n",
    "            print(\"Not a Jpg file.\")\n",
    "            break\n",
    "        with open(os.path.join(DIR_PHOTO, fname), \"rb\") as f:\n",
    "            # Encode the image data as byte format string which is required by the API\n",
    "            img = f.read()\n",
    "            img_data = base64.b64encode(img).decoode('utf-8')\n",
    "        # Call the APi\n",
    "        response = service.users().photos().update(userKey='xxx@xxxcompany.com.au', body={\"photoData\": img_data}).execute()\n",
    "        print(\"the response data:\\n\", response)\n",
    "\n",
    "except HttpError as error:\n",
    "    print(f'An error occurred: {error}')"
   ]
  }
 ],
 "metadata": {
  "kernelspec": {
   "display_name": "Python 3",
   "language": "python",
   "name": "python3"
  },
  "language_info": {
   "codemirror_mode": {
    "name": "ipython",
    "version": 3
   },
   "file_extension": ".py",
   "mimetype": "text/x-python",
   "name": "python",
   "nbconvert_exporter": "python",
   "pygments_lexer": "ipython3",
   "version": "3.7.9"
  },
  "toc": {
   "base_numbering": 1,
   "nav_menu": {},
   "number_sections": true,
   "sideBar": true,
   "skip_h1_title": false,
   "title_cell": "Table of Contents",
   "title_sidebar": "Contents",
   "toc_cell": false,
   "toc_position": {},
   "toc_section_display": true,
   "toc_window_display": false
  }
 },
 "nbformat": 4,
 "nbformat_minor": 4
}
